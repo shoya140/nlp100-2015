{
 "metadata": {
  "name": "",
  "signature": "sha256:fe312d73c340676621f6b8120af0bdc99c4770b3656fc67bd91f9a26dc24ca73"
 },
 "nbformat": 3,
 "nbformat_minor": 0,
 "worksheets": [
  {
   "cells": [
    {
     "cell_type": "code",
     "collapsed": false,
     "input": [
      "%%bash\n",
      "# 10\n",
      "wc -w data/hightemp.txt"
     ],
     "language": "python",
     "metadata": {},
     "outputs": [
      {
       "output_type": "stream",
       "stream": "stdout",
       "text": [
        "      98 data/hightemp.txt\n"
       ]
      }
     ],
     "prompt_number": 1
    },
    {
     "cell_type": "code",
     "collapsed": false,
     "input": [
      "%%bash\n",
      "# 11\n",
      "sed -e s/$'\\t'/' '/g data/hightemp.txt"
     ],
     "language": "python",
     "metadata": {},
     "outputs": [
      {
       "output_type": "stream",
       "stream": "stdout",
       "text": [
        "\u9ad8\u77e5\u770c \u6c5f\u5ddd\u5d0e 41 2013-08-12\n",
        "\u57fc\u7389\u770c \u718a\u8c37 40.9 2007-08-16\n",
        "\u5c90\u961c\u770c \u591a\u6cbb\u898b 40.9 2007-08-16\n",
        "\u5c71\u5f62\u770c \u5c71\u5f62 40.8 1933-07-25\n",
        "\u5c71\u68a8\u770c \u7532\u5e9c 40.7 2013-08-10\n",
        "\u548c\u6b4c\u5c71\u770c \u304b\u3064\u3089\u304e 40.6 1994-08-08\n",
        "\u9759\u5ca1\u770c \u5929\u7adc 40.6 1994-08-04\n",
        "\u5c71\u68a8\u770c \u52dd\u6cbc 40.5 2013-08-10\n",
        "\u57fc\u7389\u770c \u8d8a\u8c37 40.4 2007-08-16\n",
        "\u7fa4\u99ac\u770c \u9928\u6797 40.3 2007-08-16\n",
        "\u7fa4\u99ac\u770c \u4e0a\u91cc\u898b 40.3 1998-07-04\n",
        "\u611b\u77e5\u770c \u611b\u897f 40.3 1994-08-05\n",
        "\u5343\u8449\u770c \u725b\u4e45 40.2 2004-07-20\n",
        "\u9759\u5ca1\u770c \u4f50\u4e45\u9593 40.2 2001-07-24\n",
        "\u611b\u5a9b\u770c \u5b87\u548c\u5cf6 40.2 1927-07-22\n",
        "\u5c71\u5f62\u770c \u9152\u7530 40.1 1978-08-03\n",
        "\u5c90\u961c\u770c \u7f8e\u6fc3 40 2007-08-16\n",
        "\u7fa4\u99ac\u770c \u524d\u6a4b 40 2001-07-24\n",
        "\u5343\u8449\u770c \u8302\u539f 39.9 2013-08-11\n",
        "\u57fc\u7389\u770c \u9ce9\u5c71 39.9 1997-07-05\n",
        "\u5927\u962a\u5e9c \u8c4a\u4e2d 39.9 1994-08-08\n",
        "\u5c71\u68a8\u770c \u5927\u6708 39.9 1990-07-19\n",
        "\u5c71\u5f62\u770c \u9db4\u5ca1 39.9 1978-08-03\n",
        "\u611b\u77e5\u770c \u540d\u53e4\u5c4b 39.9 1942-08-02\n"
       ]
      }
     ],
     "prompt_number": 2
    },
    {
     "cell_type": "code",
     "collapsed": false,
     "input": [
      "%%bash\n",
      "# 12\n",
      "cut -f 1 data/hightemp.txt > out/col1.txt\n",
      "cut -f 2 data/hightemp.txt > out/col2.txt"
     ],
     "language": "python",
     "metadata": {},
     "outputs": [],
     "prompt_number": 3
    },
    {
     "cell_type": "code",
     "collapsed": false,
     "input": [
      "%%bash\n",
      "# 13\n",
      "paste out/col1.txt out/col2.txt"
     ],
     "language": "python",
     "metadata": {},
     "outputs": [
      {
       "output_type": "stream",
       "stream": "stdout",
       "text": [
        "\u9ad8\u77e5\u770c\t\u6c5f\u5ddd\u5d0e\n",
        "\u57fc\u7389\u770c\t\u718a\u8c37\n",
        "\u5c90\u961c\u770c\t\u591a\u6cbb\u898b\n",
        "\u5c71\u5f62\u770c\t\u5c71\u5f62\n",
        "\u5c71\u68a8\u770c\t\u7532\u5e9c\n",
        "\u548c\u6b4c\u5c71\u770c\t\u304b\u3064\u3089\u304e\n",
        "\u9759\u5ca1\u770c\t\u5929\u7adc\n",
        "\u5c71\u68a8\u770c\t\u52dd\u6cbc\n",
        "\u57fc\u7389\u770c\t\u8d8a\u8c37\n",
        "\u7fa4\u99ac\u770c\t\u9928\u6797\n",
        "\u7fa4\u99ac\u770c\t\u4e0a\u91cc\u898b\n",
        "\u611b\u77e5\u770c\t\u611b\u897f\n",
        "\u5343\u8449\u770c\t\u725b\u4e45\n",
        "\u9759\u5ca1\u770c\t\u4f50\u4e45\u9593\n",
        "\u611b\u5a9b\u770c\t\u5b87\u548c\u5cf6\n",
        "\u5c71\u5f62\u770c\t\u9152\u7530\n",
        "\u5c90\u961c\u770c\t\u7f8e\u6fc3\n",
        "\u7fa4\u99ac\u770c\t\u524d\u6a4b\n",
        "\u5343\u8449\u770c\t\u8302\u539f\n",
        "\u57fc\u7389\u770c\t\u9ce9\u5c71\n",
        "\u5927\u962a\u5e9c\t\u8c4a\u4e2d\n",
        "\u5c71\u68a8\u770c\t\u5927\u6708\n",
        "\u5c71\u5f62\u770c\t\u9db4\u5ca1\n",
        "\u611b\u77e5\u770c\t\u540d\u53e4\u5c4b\n"
       ]
      }
     ],
     "prompt_number": 4
    },
    {
     "cell_type": "code",
     "collapsed": false,
     "input": [
      "%%bash\n",
      "# 14\n",
      "head -n 2 data/hightemp.txt"
     ],
     "language": "python",
     "metadata": {},
     "outputs": [
      {
       "output_type": "stream",
       "stream": "stdout",
       "text": [
        "\u9ad8\u77e5\u770c\t\u6c5f\u5ddd\u5d0e\t41\t2013-08-12\n",
        "\u57fc\u7389\u770c\t\u718a\u8c37\t40.9\t2007-08-16\n"
       ]
      }
     ],
     "prompt_number": 7
    },
    {
     "cell_type": "code",
     "collapsed": false,
     "input": [
      "%%bash\n",
      "# 15\n",
      "tail -n 2 data/hightemp.txt"
     ],
     "language": "python",
     "metadata": {},
     "outputs": [
      {
       "output_type": "stream",
       "stream": "stdout",
       "text": [
        "\u5c71\u5f62\u770c\t\u9db4\u5ca1\t39.9\t1978-08-03\n",
        "\u611b\u77e5\u770c\t\u540d\u53e4\u5c4b\t39.9\t1942-08-02\n"
       ]
      }
     ],
     "prompt_number": 8
    },
    {
     "cell_type": "code",
     "collapsed": false,
     "input": [],
     "language": "python",
     "metadata": {},
     "outputs": []
    }
   ],
   "metadata": {}
  }
 ]
}