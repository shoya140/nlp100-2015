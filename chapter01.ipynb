{
 "metadata": {
  "name": "",
  "signature": "sha256:cff73a5800a15e2462a52a02e4be5cb094b722c7f624f7730fac307744ec9a66"
 },
 "nbformat": 3,
 "nbformat_minor": 0,
 "worksheets": [
  {
   "cells": [
    {
     "cell_type": "code",
     "collapsed": false,
     "input": [
      "import numpy as np\n",
      "import pandas as pd"
     ],
     "language": "python",
     "metadata": {},
     "outputs": [],
     "prompt_number": 1
    },
    {
     "cell_type": "code",
     "collapsed": false,
     "input": [
      "# 00\n",
      "text = \"stressed\"\n",
      "print text[::-1]"
     ],
     "language": "python",
     "metadata": {},
     "outputs": [
      {
       "output_type": "stream",
       "stream": "stdout",
       "text": [
        "desserts\n"
       ]
      }
     ],
     "prompt_number": 2
    },
    {
     "cell_type": "code",
     "collapsed": false,
     "input": [
      "# 01\n",
      "text = u\"\u30d1\u30bf\u30c8\u30af\u30ab\u30b7\u30fc\u30fc\"\n",
      "print text[1::2]"
     ],
     "language": "python",
     "metadata": {},
     "outputs": [
      {
       "output_type": "stream",
       "stream": "stdout",
       "text": [
        "\u30bf\u30af\u30b7\u30fc\n"
       ]
      }
     ],
     "prompt_number": 3
    },
    {
     "cell_type": "code",
     "collapsed": false,
     "input": [
      "# 02\n",
      "text1 = list(u\"\u30d1\u30c8\u30ab\u30fc\")\n",
      "text2 = list(u\"\u30bf\u30af\u30b7\u30fc\")\n",
      "res = \"\"\n",
      "while len(text1) > 0 and len(text2) > 0:\n",
      "    res += text1.pop(0) + text2.pop(0)\n",
      "print res"
     ],
     "language": "python",
     "metadata": {},
     "outputs": [
      {
       "output_type": "stream",
       "stream": "stdout",
       "text": [
        "\u30d1\u30bf\u30c8\u30af\u30ab\u30b7\u30fc\u30fc\n"
       ]
      }
     ],
     "prompt_number": 4
    },
    {
     "cell_type": "code",
     "collapsed": false,
     "input": [
      "# 03\n",
      "text = \"Now I need a drink, alcoholic of course, after the heavy lectures involving quantum mechanics.\"\n",
      "text_ = text.replace(',', '').replace('.', '')\n",
      "print [len(x) for x in text_.split()]"
     ],
     "language": "python",
     "metadata": {},
     "outputs": [
      {
       "output_type": "stream",
       "stream": "stdout",
       "text": [
        "[3, 1, 4, 1, 5, 9, 2, 6, 5, 3, 5, 8, 9, 7, 9]\n"
       ]
      }
     ],
     "prompt_number": 5
    },
    {
     "cell_type": "code",
     "collapsed": false,
     "input": [
      "# 04\n",
      "text = \"Hi He Lied Because Boron Could Not Oxidize Fluorine. New Nations Might Also Sign Peace Security Clause. Arthur King Can.\"\n",
      "text_ = text.replace(',', '').replace('.', '')\n",
      "words = text_.split()\n",
      "dict = {}\n",
      "indexs = [1,5,6,7,8,9,15,16,19]\n",
      "for i in range(len(words)):\n",
      "    if i+1 in indexs:\n",
      "        dict.update({words[i][:1]:words[i]})\n",
      "    else:\n",
      "        dict.update({words[i][:2]:words[i]})        \n",
      "print dict"
     ],
     "language": "python",
     "metadata": {},
     "outputs": [
      {
       "output_type": "stream",
       "stream": "stdout",
       "text": [
        "{'Be': 'Because', 'C': 'Could', 'B': 'Boron', 'Ca': 'Can', 'F': 'Fluorine', 'S': 'Security', 'H': 'Hi', 'K': 'King', 'Al': 'Also', 'Mi': 'Might', 'Ne': 'New', 'O': 'Oxidize', 'N': 'Not', 'P': 'Peace', 'Si': 'Sign', 'Ar': 'Arthur', 'Na': 'Nations', 'Li': 'Lied', 'Cl': 'Clause', 'He': 'He'}\n"
       ]
      }
     ],
     "prompt_number": 6
    },
    {
     "cell_type": "code",
     "collapsed": false,
     "input": [
      "# 05\n",
      "def nGramWord(text, n):\n",
      "    text_ = text.replace(',', '').replace('.', '').replace('\\n', '').split()\n",
      "    return [text_[i:i+2] for i in range(len(text_))]\n",
      "\n",
      "def nGramCharacter(text, n):\n",
      "    text_ = text.replace(',', '').replace('.', '').replace(' ', '').replace('\\n', '')\n",
      "    return [text_[i:i+2] for i in range(len(text_))]\n",
      "\n",
      "print nGramWord('I am an NLPer', 2)\n",
      "print nGramCharacter('I am an NLPer', 2)"
     ],
     "language": "python",
     "metadata": {},
     "outputs": [
      {
       "output_type": "stream",
       "stream": "stdout",
       "text": [
        "[['I', 'am'], ['am', 'an'], ['an', 'NLPer'], ['NLPer']]\n",
        "['Ia', 'am', 'ma', 'an', 'nN', 'NL', 'LP', 'Pe', 'er', 'r']\n"
       ]
      }
     ],
     "prompt_number": 7
    },
    {
     "cell_type": "code",
     "collapsed": false,
     "input": [
      "# 06\n",
      "text1 = \"paraparaparadise\"\n",
      "text2 = \"paragraph\"\n",
      "\n",
      "X = nGramCharacter(text1, 2)\n",
      "Y = nGramCharacter(text2, 2)\n",
      "print set(X) & set(Y)\n",
      "print set(X) | set(Y)\n",
      "print 'se' in (set(X) | set(Y))"
     ],
     "language": "python",
     "metadata": {},
     "outputs": [
      {
       "output_type": "stream",
       "stream": "stdout",
       "text": [
        "set(['ap', 'pa', 'ar', 'ra'])\n",
        "set(['e', 'ad', 'ag', 'di', 'h', 'is', 'ap', 'pa', 'ra', 'ph', 'ar', 'se', 'gr'])\n",
        "True\n"
       ]
      }
     ],
     "prompt_number": 25
    },
    {
     "cell_type": "code",
     "collapsed": false,
     "input": [
      "# 07\n",
      "def template(x, y, z):\n",
      "    return str(x) + \"\u6642\u306e\" + str(y) + \"\u306f\" + str(z)\n",
      "print template(12, \"\u6c17\u6e29\", 22.4)"
     ],
     "language": "python",
     "metadata": {},
     "outputs": [
      {
       "output_type": "stream",
       "stream": "stdout",
       "text": [
        "12\u6642\u306e\u6c17\u6e29\u306f22.4\n"
       ]
      }
     ],
     "prompt_number": 28
    },
    {
     "cell_type": "code",
     "collapsed": false,
     "input": [],
     "language": "python",
     "metadata": {},
     "outputs": []
    }
   ],
   "metadata": {}
  }
 ]
}